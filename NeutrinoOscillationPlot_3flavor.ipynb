{
 "cells": [
  {
   "cell_type": "code",
   "execution_count": 1,
   "id": "0adafbe5",
   "metadata": {},
   "outputs": [],
   "source": [
    "from ipywidgets import interact, interactive, fixed, interact_manual\n",
    "import ipywidgets as widgets\n",
    "import numpy as np\n",
    "import matplotlib.pyplot as plt"
   ]
  },
  {
   "cell_type": "code",
   "execution_count": 33,
   "id": "3aab4c64",
   "metadata": {},
   "outputs": [
    {
     "data": {
      "application/vnd.jupyter.widget-view+json": {
       "model_id": "711a8feeb72043c086c1fb9fa43e89de",
       "version_major": 2,
       "version_minor": 0
      },
      "text/plain": [
       "interactive(children=(Dropdown(description='Initial flavor', options=(('Electron', 0), ('Muon', 1), ('Tau', 2)…"
      ]
     },
     "metadata": {},
     "output_type": "display_data"
    }
   ],
   "source": [
    "def plot_func_3(iflavor,T12,T13,T23,d,m12,m23,E):\n",
    "    \n",
    "    # Fix units\n",
    "    m12=m12*(10**-6)  #units of [10^-6 eV^2]\n",
    "    m23=m23*(10**-4)  #units of [10^-4 eV^2]\n",
    "    E=E*(10**-3)      #units of MeV\n",
    "    \n",
    "    # Abbreviations\n",
    "    i=complex(0,1);\n",
    "    c12=np.cos(T12);\n",
    "    c13=np.cos(T13);\n",
    "    c23=np.cos(T23);\n",
    "    s12=np.sin(T12);\n",
    "    s13=np.sin(T13);\n",
    "    s23=np.sin(T23);\n",
    "    CP_phase=np.exp(i*d);\n",
    "    \n",
    "    # PMNS Matrix\n",
    "    U=[[c12*c13, s12*c13, s13*np.conj(CP_phase)],\n",
    "       [-s12*c23-c12*s23*s13*CP_phase, c12*c23-s12*s23*s13*CP_phase, s23*c13],\n",
    "       [s12*s23-c12*c23*s13*CP_phase, -c12*s23-s12*c23*s13*CP_phase, c23*c13]];\n",
    "    \n",
    "    M=[0,m12,m12+m23];  # Mass-squared's: set m1=0 for convenience, scale doesn't affect the plot\n",
    "    \n",
    "    x = np.linspace(0,2000,2001);  # distance values\n",
    "    \n",
    "    Prob=[0,0,0];  # list of prob's\n",
    "    \n",
    "    # the meat\n",
    "    for j in range(0,3):\n",
    "        amp=0;\n",
    "        for k in range(0,3):\n",
    "            amp = amp + np.conj(U[iflavor][k])*U[j][k]*np.exp(-i*2.54*M[k]*x/E);\n",
    "        \n",
    "        Prob[j]=np.absolute(amp)**2\n",
    "    \n",
    "    \n",
    "    plt.plot(x, Prob[0], color='green', label='Probability that an electron neutrino is observed')\n",
    "    plt.plot(x, Prob[1], color='blue', label='Probability that a muon neutrino is observed')\n",
    "    plt.plot(x, Prob[2], color='red', label='Probability that a tau neutrino is observed')\n",
    "    #plt.plot(x, sum(Prob))\n",
    "    plt.axis([0, 2000, 0, 1.4])\n",
    "    plt.legend(loc=9)\n",
    "    plt.ylabel('Probability')\n",
    "    plt.xlabel('Distance (km)')\n",
    "    plt.show()\n",
    "\n",
    "interact(plot_func_3,\n",
    "         iflavor=widgets.Dropdown(options=[('Electron',0),('Muon',1),('Tau',2)], description='Initial flavor'),\n",
    "         T12 = widgets.FloatSlider(value=0.7, min=-np.pi, max=np.pi, step=0.05, description=r'$\\theta_{12}$:', continuous_update=False),\n",
    "         T13 = widgets.FloatSlider(value=0.16, min=-np.pi, max=np.pi, step=0.05, description=r'$\\theta_{13}$:', continuous_update=False),\n",
    "         T23 = widgets.FloatSlider(value=0.6, min=-np.pi, max=np.pi, step=0.05, description=r'$\\theta_{23}$:', continuous_update=False),\n",
    "         d = widgets.FloatSlider(value=0, min=-np.pi, max=np.pi, step=0.05, description=r'$\\delta_{CP}$:', continuous_update=False),\n",
    "         m12 = widgets.FloatSlider(value=75, min=0, max=300, step=10, description=r'$\\Delta m_{12}^2$:', continuous_update=False),\n",
    "         m23 = widgets.FloatSlider(value=23, min=0, max=66, step=5, description=r'$\\Delta m_{23}^2$:', continuous_update=False),\n",
    "         E = widgets.FloatSlider(value=50, min=10, max=300, step=10, description='Energy:', continuous_update=False));\n",
    "\n",
    "\n",
    "\n"
   ]
  },
  {
   "cell_type": "code",
   "execution_count": null,
   "id": "7040e494",
   "metadata": {},
   "outputs": [],
   "source": []
  }
 ],
 "metadata": {
  "kernelspec": {
   "display_name": "Python 3",
   "language": "python",
   "name": "python3"
  },
  "language_info": {
   "codemirror_mode": {
    "name": "ipython",
    "version": 3
   },
   "file_extension": ".py",
   "mimetype": "text/x-python",
   "name": "python",
   "nbconvert_exporter": "python",
   "pygments_lexer": "ipython3",
   "version": "3.8.8"
  }
 },
 "nbformat": 4,
 "nbformat_minor": 5
}
